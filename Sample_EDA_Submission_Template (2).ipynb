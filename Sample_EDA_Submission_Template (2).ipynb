{
  "cells": [
    {
      "cell_type": "code",
      "execution_count": null,
      "metadata": {
        "id": "I1apcow5dxii"
      },
      "outputs": [],
      "source": []
    },
    {
      "cell_type": "markdown",
      "metadata": {
        "id": "vncDsAP0Gaoa"
      },
      "source": [
        "# **Project Name**    -\n",
        "\n"
      ]
    },
    {
      "cell_type": "markdown",
      "metadata": {
        "id": "beRrZCGUAJYm"
      },
      "source": [
        "##### **Project Type**    - EDA\n",
        "##### **Contribution**    - Individual\n",
        "##### **Team Member 1 -**\n",
        "##### **Team Member 2 -**\n",
        "##### **Team Member 3 -**\n",
        "##### **Team Member 4 -**"
      ]
    },
    {
      "cell_type": "markdown",
      "metadata": {
        "id": "FJNUwmbgGyua"
      },
      "source": [
        "# **Project Summary -**"
      ]
    },
    {
      "cell_type": "markdown",
      "metadata": {
        "id": "F6v_1wHtG2nS"
      },
      "source": [
        "PhonePe has emerged as one of India's leading digital payment platforms, revolutionizing financial transactions through its user-friendly interface and seamless integration with UPI. This project, PhonePe Transaction Insights, aims to analyze aggregated transaction data to uncover patterns, trends, and actionable insights that can drive business growth, enhance user engagement, and optimize marketing strategies.\n"
      ]
    },
    {
      "cell_type": "markdown",
      "metadata": {
        "id": "w6K7xa23Elo4"
      },
      "source": [
        "# **GitHub Link -**"
      ]
    },
    {
      "cell_type": "markdown",
      "metadata": {
        "id": "h1o69JH3Eqqn"
      },
      "source": [
        "Provide your GitHub Link here."
      ]
    },
    {
      "cell_type": "markdown",
      "metadata": {
        "id": "yQaldy8SH6Dl"
      },
      "source": [
        "# **Problem Statement**\n"
      ]
    },
    {
      "cell_type": "markdown",
      "metadata": {
        "id": "DpeJGUA3kjGy"
      },
      "source": [
        "**Write Problem Statement Here.**"
      ]
    },
    {
      "cell_type": "markdown",
      "metadata": {
        "id": "PH-0ReGfmX4f"
      },
      "source": [
        "#### **Define Your Business Objective?**"
      ]
    },
    {
      "cell_type": "markdown",
      "metadata": {
        "id": "PhDvGCAqmjP1"
      },
      "source": [
        "The primary objectives of this project include:\n",
        "\n",
        "Understanding Transaction Trends: Analyzing transaction volumes, amounts, and types to identify growth patterns and seasonal variations.\n",
        "\n",
        "Geographical Analysis: Mapping transaction data across states and districts to identify high-adoption and underserved regions.\n",
        "\n",
        "User Behavior Insights: Studying device preferences, transaction categories, and user engagement across different demographics.\n",
        "\n",
        "Business Strategy Optimization: Providing data-driven recommendations for marketing, fraud detection, and product development."
      ]
    },
    {
      "cell_type": "markdown",
      "metadata": {
        "id": "mDgbUHAGgjLW"
      },
      "source": [
        "# **General Guidelines** : -  "
      ]
    },
    {
      "cell_type": "markdown",
      "metadata": {
        "id": "ZrxVaUj-hHfC"
      },
      "source": [
        "1.   Well-structured, formatted, and commented code is required.\n",
        "2.   Exception Handling, Production Grade Code & Deployment Ready Code will be a plus. Those students will be awarded some additional credits.\n",
        "     \n",
        "     The additional credits will have advantages over other students during Star Student selection.\n",
        "       \n",
        "             [ Note: - Deployment Ready Code is defined as, the whole .ipynb notebook should be executable in one go\n",
        "                       without a single error logged. ]\n",
        "\n",
        "3.   Each and every logic should have proper comments.\n",
        "4. You may add as many number of charts you want. Make Sure for each and every chart the following format should be answered.\n",
        "        \n",
        "\n",
        "```\n",
        "# Chart visualization code\n",
        "```\n",
        "            \n",
        "\n",
        "*   Why did you pick the specific chart?\n",
        "*   What is/are the insight(s) found from the chart?\n",
        "* Will the gained insights help creating a positive business impact?\n",
        "Are there any insights that lead to negative growth? Justify with specific reason.\n",
        "\n",
        "5. You have to create at least 20 logical & meaningful charts having important insights.\n",
        "\n",
        "\n",
        "[ Hints : - Do the Vizualization in  a structured way while following \"UBM\" Rule.\n",
        "\n",
        "U - Univariate Analysis,\n",
        "\n",
        "B - Bivariate Analysis (Numerical - Categorical, Numerical - Numerical, Categorical - Categorical)\n",
        "\n",
        "M - Multivariate Analysis\n",
        " ]\n",
        "\n",
        "\n",
        "\n"
      ]
    },
    {
      "cell_type": "markdown",
      "metadata": {
        "id": "O_i_v8NEhb9l"
      },
      "source": [
        "# ***Let's Begin !***"
      ]
    },
    {
      "cell_type": "markdown",
      "metadata": {
        "id": "HhfV-JJviCcP"
      },
      "source": [
        "## ***1. Know Your Data***"
      ]
    },
    {
      "cell_type": "markdown",
      "metadata": {
        "id": "Y3lxredqlCYt"
      },
      "source": [
        "### Import Libraries"
      ]
    },
    {
      "cell_type": "code",
      "execution_count": null,
      "metadata": {
        "id": "M8Vqi-pPk-HR"
      },
      "outputs": [],
      "source": [
        "# Import Libraries\n",
        "import pandas as pd\n",
        "import numpy as np\n",
        "import matplotlib.pyplot as plt\n",
        "import seaborn as sns\n",
        "import plotly.express as px\n",
        "import warnings\n",
        "warnings.filterwarnings('ignore')\n",
        "\n",
        "# For SQL integration (if needed)\n",
        "import sqlite3\n",
        "from sqlalchemy import create_engine\n",
        "\n",
        "# For geospatial visualization\n",
        "import geopandas as gpd\n",
        "import folium\n",
        "from folium.plugins import HeatMap\n",
        "\n",
        "# For interactive dashboard elements\n",
        "from ipywidgets import interact, interactive, fixed, interact_manual\n",
        "import ipywidgets as widgets"
      ]
    },
    {
      "cell_type": "markdown",
      "metadata": {
        "id": "3RnN4peoiCZX"
      },
      "source": [
        "### Dataset Loading"
      ]
    },
    {
      "cell_type": "code",
      "execution_count": null,
      "metadata": {
        "id": "4CkvbW_SlZ_R"
      },
      "outputs": [],
      "source": [
        "# Load Dataset\n",
        "# Note: Since the actual dataset isn't provided, I'll outline the approach\n",
        "# In practice, you would load data from the GitHub repository mentioned\n",
        "\n",
        "# Sample code for loading data (adjust based on actual data structure)\n",
        "# aggregated_transaction = pd.read_csv('path_to_aggregated_transaction.csv')\n",
        "# aggregated_user = pd.read_csv('path_to_aggregated_user.csv')\n",
        "# map_transaction = pd.read_csv('path_to_map_transaction.csv')\n",
        "# top_transaction = pd.read_csv('path_to_top_transaction.csv')\n",
        "\n",
        "# For demonstration, let's create sample data that mimics PhonePe transaction data\n",
        "np.random.seed(42)\n",
        "\n",
        "# Create sample aggregated transaction data\n",
        "states = ['Maharashtra', 'Karnataka', 'Tamil Nadu', 'Uttar Pradesh', 'Delhi', \n",
        "          'West Bengal', 'Gujarat', 'Rajasthan', 'Andhra Pradesh', 'Kerala']\n",
        "years = [2018, 2019, 2020, 2021, 2022]\n",
        "quarters = [1, 2, 3, 4]\n",
        "transaction_types = ['Recharge & bill payments', 'Peer-to-peer payments', \n",
        "                    'Merchant payments', 'Financial Services', 'Others']\n",
        "\n",
        "data = []\n",
        "for state in states:\n",
        "    for year in years:\n",
        "        for quarter in quarters:\n",
        "            for txn_type in transaction_types:\n",
        "                count = np.random.randint(10000, 500000)\n",
        "                amount = np.random.uniform(100000, 5000000)\n",
        "                data.append([state, year, quarter, txn_type, count, amount])\n",
        "\n",
        "aggregated_transaction = pd.DataFrame(data, columns=[\n",
        "    'State', 'Year', 'Quarter', 'Transaction_Type', 'Transaction_Count', 'Transaction_Amount'\n",
        "])\n",
        "\n",
        "# Create sample aggregated user data\n",
        "brands = ['Xiaomi', 'Samsung', 'Vivo', 'Oppo', 'Apple', 'Realme', 'OnePlus']\n",
        "data = []\n",
        "for state in states:\n",
        "    for year in years:\n",
        "        for quarter in quarters:\n",
        "            for brand in brands:\n",
        "                count = np.random.randint(1000, 50000)\n",
        "                percentage = np.random.uniform(0.1, 0.5)\n",
        "                data.append([state, year, quarter, brand, count, percentage])\n",
        "\n",
        "aggregated_user = pd.DataFrame(data, columns=[\n",
        "    'State', 'Year', 'Quarter', 'Brand', 'User_Count', 'Percentage'\n",
        "])\n",
        "\n",
        "# Create sample map transaction data\n",
        "districts = {\n",
        "    'Maharashtra': ['Mumbai', 'Pune', 'Nagpur', 'Nashik', 'Aurangabad'],\n",
        "    'Karnataka': ['Bangalore', 'Mysore', 'Hubli', 'Mangalore', 'Belgaum'],\n",
        "    'Tamil Nadu': ['Chennai', 'Coimbatore', 'Madurai', 'Tiruchirappalli', 'Salem'],\n",
        "    'Uttar Pradesh': ['Lucknow', 'Kanpur', 'Varanasi', 'Agra', 'Meerut'],\n",
        "    'Delhi': ['New Delhi', 'Central Delhi', 'East Delhi', 'North Delhi', 'South Delhi'],\n",
        "    'West Bengal': ['Kolkata', 'Howrah', 'Durgapur', 'Asansol', 'Siliguri'],\n",
        "    'Gujarat': ['Ahmedabad', 'Surat', 'Vadodara', 'Rajkot', 'Bhavnagar'],\n",
        "    'Rajasthan': ['Jaipur', 'Jodhpur', 'Kota', 'Bikaner', 'Ajmer'],\n",
        "    'Andhra Pradesh': ['Hyderabad', 'Visakhapatnam', 'Vijayawada', 'Guntur', 'Nellore'],\n",
        "    'Kerala': ['Thiruvananthapuram', 'Kochi', 'Kozhikode', 'Thrissur', 'Kollam']\n",
        "}\n",
        "\n",
        "data = []\n",
        "for state, dists in districts.items():\n",
        "    for dist in dists:\n",
        "        for year in years:\n",
        "            for quarter in quarters:\n",
        "                count = np.random.randint(1000, 50000)\n",
        "                amount = np.random.uniform(50000, 500000)\n",
        "                data.append([state, dist, year, quarter, count, amount])\n",
        "\n",
        "map_transaction = pd.DataFrame(data, columns=[\n",
        "    'State', 'District', 'Year', 'Quarter', 'Transaction_Count', 'Transaction_Amount'\n",
        "])\n",
        "\n",
        "# Create sample top transaction data\n",
        "pincodes = [560001, 560002, 560003, 560004, 560005,  # Bangalore\n",
        "            400001, 400002, 400003, 400004, 400005,  # Mumbai\n",
        "            600001, 600002, 600003, 600004, 600005,  # Chennai\n",
        "            110001, 110002, 110003, 110004, 110005]  # Delhi\n",
        "\n",
        "data = []\n",
        "for state in states[:4]:  # Only for first 4 states to keep it manageable\n",
        "    for year in years[-2:]:  # Only for last 2 years\n",
        "        for quarter in quarters:\n",
        "            for _ in range(5):  # Top 5 pincodes per state-year-quarter\n",
        "                pincode = np.random.choice(pincodes)\n",
        "                count = np.random.randint(500, 5000)\n",
        "                amount = np.random.uniform(25000, 250000)\n",
        "                data.append([state, year, quarter, pincode, count, amount])\n",
        "\n",
        "top_transaction = pd.DataFrame(data, columns=[\n",
        "    'State', 'Year', 'Quarter', 'Pincode', 'Transaction_Count', 'Transaction_Amount'\n",
        "])"
      ]
    },
    {
      "cell_type": "markdown",
      "metadata": {
        "id": "x71ZqKXriCWQ"
      },
      "source": [
        "### Dataset First View"
      ]
    },
    {
      "cell_type": "code",
      "execution_count": null,
      "metadata": {
        "id": "LWNFOSvLl09H"
      },
      "outputs": [],
      "source": [
        "# Dataset First Look\n",
        "print(\"Aggregated Transaction Data:\")\n",
        "display(aggregated_transaction.head())\n",
        "\n",
        "print(\"\\nAggregated User Data:\")\n",
        "display(aggregated_user.head())\n",
        "\n",
        "print(\"\\nMap Transaction Data:\")\n",
        "display(map_transaction.head())\n",
        "\n",
        "print(\"\\nTop Transaction Data:\")\n",
        "display(top_transaction.head())"
      ]
    },
    {
      "cell_type": "markdown",
      "metadata": {
        "id": "7hBIi_osiCS2"
      },
      "source": [
        "### Dataset Rows & Columns count"
      ]
    },
    {
      "cell_type": "code",
      "execution_count": null,
      "metadata": {
        "id": "Kllu7SJgmLij"
      },
      "outputs": [],
      "source": [
        "# Dataset Rows & Columns count\n",
        "print(\"Aggregated Transaction Data Shape:\", aggregated_transaction.shape)\n",
        "print(\"Aggregated User Data Shape:\", aggregated_user.shape)\n",
        "print(\"Map Transaction Data Shape:\", map_transaction.shape)\n",
        "print(\"Top Transaction Data Shape:\", top_transaction.shape)"
      ]
    },
    {
      "cell_type": "markdown",
      "metadata": {
        "id": "JlHwYmJAmNHm"
      },
      "source": [
        "### Dataset Information"
      ]
    },
    {
      "cell_type": "code",
      "execution_count": null,
      "metadata": {
        "id": "e9hRXRi6meOf"
      },
      "outputs": [],
      "source": [
        "\n",
        "# Dataset Info\n",
        "print(\"Aggregated Transaction Data Info:\")\n",
        "aggregated_transaction.info()\n",
        "\n",
        "print(\"\\nAggregated User Data Info:\")\n",
        "aggregated_user.info()\n",
        "\n",
        "print(\"\\nMap Transaction Data Info:\")\n",
        "map_transaction.info()\n",
        "\n",
        "print(\"\\nTop Transaction Data Info:\")\n",
        "top_transaction.info()"
      ]
    },
    {
      "cell_type": "markdown",
      "metadata": {
        "id": "35m5QtbWiB9F"
      },
      "source": [
        "#### Duplicate Values"
      ]
    },
    {
      "cell_type": "code",
      "execution_count": null,
      "metadata": {
        "id": "1sLdpKYkmox0"
      },
      "outputs": [],
      "source": [
        "# Dataset Duplicate Value Count\n",
        "# Dataset Duplicate Value Count\n",
        "print(\"Duplicate rows in Aggregated Transaction:\", aggregated_transaction.duplicated().sum())\n",
        "print(\"Duplicate rows in Aggregated User:\", aggregated_user.duplicated().sum())\n",
        "print(\"Duplicate rows in Map Transaction:\", map_transaction.duplicated().sum())\n",
        "print(\"Duplicate rows in Top Transaction:\", top_transaction.duplicated().sum())"
      ]
    },
    {
      "cell_type": "markdown",
      "metadata": {
        "id": "PoPl-ycgm1ru"
      },
      "source": [
        "#### Missing Values/Null Values"
      ]
    },
    {
      "cell_type": "code",
      "execution_count": null,
      "metadata": {
        "id": "GgHWkxvamxVg"
      },
      "outputs": [],
      "source": [
        "# Missing Values/Null Values Count\n",
        "print(\"Missing values in Aggregated Transaction:\")\n",
        "print(aggregated_transaction.isnull().sum())\n",
        "\n",
        "print(\"\\nMissing values in Aggregated User:\")\n",
        "print(aggregated_user.isnull().sum())\n",
        "\n",
        "print(\"\\nMissing values in Map Transaction:\")\n",
        "print(map_transaction.isnull().sum())\n",
        "\n",
        "print(\"\\nMissing values in Top Transaction:\")\n",
        "print(top_transaction.isnull().sum())"
      ]
    },
    {
      "cell_type": "code",
      "execution_count": null,
      "metadata": {
        "id": "3q5wnI3om9sJ"
      },
      "outputs": [],
      "source": [
        "# Visualizing the missing values\n",
        "plt.figure(figsize=(15, 5))\n",
        "\n",
        "plt.subplot(1, 4, 1)\n",
        "sns.heatmap(aggregated_transaction.isnull(), cbar=False)\n",
        "plt.title('Aggregated Transaction')\n",
        "\n",
        "plt.subplot(1, 4, 2)\n",
        "sns.heatmap(aggregated_user.isnull(), cbar=False)\n",
        "plt.title('Aggregated User')\n",
        "\n",
        "plt.subplot(1, 4, 3)\n",
        "sns.heatmap(map_transaction.isnull(), cbar=False)\n",
        "plt.title('Map Transaction')\n",
        "\n",
        "plt.subplot(1, 4, 4)\n",
        "sns.heatmap(top_transaction.isnull(), cbar=False)\n",
        "plt.title('Top Transaction')\n",
        "\n",
        "plt.tight_layout()\n",
        "plt.show()"
      ]
    },
    {
      "cell_type": "markdown",
      "metadata": {
        "id": "H0kj-8xxnORC"
      },
      "source": [
        "### What did you know about your dataset?"
      ]
    },
    {
      "cell_type": "markdown",
      "metadata": {
        "id": "gfoNAAC-nUe_"
      },
      "source": [
        "\n",
        "\n",
        "The datasets contain transaction and user information for the PhonePe digital payment platform across multiple states in India.\n",
        "\n",
        "Key observations:\n",
        "1. The data spans from 2018 to 2022 with quarterly granularity\n",
        "2. There are no missing values in any of the datasets\n",
        "3. No duplicate rows were found\n",
        "4. Data is available at different levels:\n",
        "   - Aggregated by transaction type and user brand\n",
        "   - Geographical breakdown by state and district\n",
        "   - Top transactions by pincode\n",
        "5. Transaction amounts and counts vary significantly, suggesting different adoption rates across regions\n"
      ]
    },
    {
      "cell_type": "markdown",
      "metadata": {
        "id": "nA9Y7ga8ng1Z"
      },
      "source": [
        "## ***2. Understanding Your Variables***"
      ]
    },
    {
      "cell_type": "code",
      "execution_count": null,
      "metadata": {
        "id": "j7xfkqrt5Ag5"
      },
      "outputs": [],
      "source": [
        "# Dataset Columns\n",
        "print(\"Aggregated Transaction Columns:\", aggregated_transaction.columns.tolist())\n",
        "print(\"\\nAggregated User Columns:\", aggregated_user.columns.tolist())\n",
        "print(\"\\nMap Transaction Columns:\", map_transaction.columns.tolist())\n",
        "print(\"\\nTop Transaction Columns:\", top_transaction.columns.tolist())"
      ]
    },
    {
      "cell_type": "code",
      "execution_count": null,
      "metadata": {
        "id": "DnOaZdaE5Q5t"
      },
      "outputs": [],
      "source": [
        "# Dataset Describe\n",
        "print(\"Aggregated Transaction Description:\")\n",
        "display(aggregated_transaction.describe())\n",
        "\n",
        "print(\"\\nAggregated User Description:\")\n",
        "display(aggregated_user.describe())\n",
        "\n",
        "print(\"\\nMap Transaction Description:\")\n",
        "display(map_transaction.describe())\n",
        "\n",
        "print(\"\\nTop Transaction Description:\")\n",
        "display(top_transaction.describe())"
      ]
    },
    {
      "cell_type": "markdown",
      "metadata": {
        "id": "PBTbrJXOngz2"
      },
      "source": [
        "### Variables Description"
      ]
    },
    {
      "cell_type": "markdown",
      "metadata": {
        "id": "aJV4KIxSnxay"
      },
      "source": [
        "\n",
        "Aggregated Transaction Data:\n",
        "- State: Indian state where transaction occurred\n",
        "- Year: Year of transaction (2018-2022)\n",
        "- Quarter: Quarter of the year (1-4)\n",
        "- Transaction_Type: Category of transaction (Recharge, P2P, Merchant, etc.)\n",
        "- Transaction_Count: Number of transactions\n",
        "- Transaction_Amount: Total amount transacted\n",
        "\n",
        "Aggregated User Data:\n",
        "- State: Indian state where user is located\n",
        "- Year: Year of data (2018-2022)\n",
        "- Quarter: Quarter of the year (1-4)\n",
        "- Brand: Mobile device brand used for transactions\n",
        "- User_Count: Number of users for the brand\n",
        "- Percentage: Market share percentage of the brand\n",
        "\n",
        "Map Transaction Data:\n",
        "- State: Indian state\n",
        "- District: District within the state\n",
        "- Year: Year of transaction (2018-2022)\n",
        "- Quarter: Quarter of the year (1-4)\n",
        "- Transaction_Count: Number of transactions in district\n",
        "- Transaction_Amount: Total amount transacted in district\n",
        "\n",
        "Top Transaction Data:\n",
        "- State: Indian state\n",
        "- Year: Year of transaction (2021-2022)\n",
        "- Quarter: Quarter of the year (1-4)\n",
        "- Pincode: Postal code area\n",
        "- Transaction_Count: Number of transactions in pincode\n"
      ]
    },
    {
      "cell_type": "markdown",
      "metadata": {
        "id": "u3PMJOP6ngxN"
      },
      "source": [
        "### Check Unique Values for each variable."
      ]
    },
    {
      "cell_type": "code",
      "execution_count": null,
      "metadata": {
        "id": "zms12Yq5n-jE"
      },
      "outputs": [],
      "source": [
        "# Check Unique Values for each variable\n",
        "def print_unique_values(df, df_name):\n",
        "    print(f\"\\nUnique values in {df_name}:\")\n",
        "    for col in df.columns:\n",
        "        if df[col].dtype == 'object' or len(df[col].unique()) < 20:\n",
        "            print(f\"{col}: {df[col].unique()}\")\n",
        "            print(f\"Count: {len(df[col].unique())}\\n\")\n",
        "        else:\n",
        "            print(f\"{col}: {len(df[col].unique())} unique values\")\n",
        "\n",
        "print_unique_values(aggregated_transaction, \"Aggregated Transaction\")\n",
        "print_unique_values(aggregated_user, \"Aggregated User\")\n",
        "print_unique_values(map_transaction, \"Map Transaction\")\n",
        "print_unique_values(top_transaction, \"Top Transaction\")"
      ]
    },
    {
      "cell_type": "markdown",
      "metadata": {
        "id": "dauF4eBmngu3"
      },
      "source": [
        "## 3. ***Data Wrangling***"
      ]
    },
    {
      "cell_type": "markdown",
      "metadata": {
        "id": "bKJF3rekwFvQ"
      },
      "source": [
        "### Data Wrangling Code"
      ]
    },
    {
      "cell_type": "code",
      "execution_count": null,
      "metadata": {
        "id": "wk-9a2fpoLcV"
      },
      "outputs": [],
      "source": [
        "\n",
        "# Convert Year and Quarter to datetime for time series analysis\n",
        "def create_date_column(df):\n",
        "    df['Date'] = pd.to_datetime(df['Year'].astype(str) + 'Q' + df['Quarter'].astype(str))\n",
        "    return df\n",
        "\n",
        "aggregated_transaction = create_date_column(aggregated_transaction)\n",
        "aggregated_user = create_date_column(aggregated_user)\n",
        "map_transaction = create_date_column(map_transaction)\n",
        "top_transaction = create_date_column(top_transaction)\n",
        "\n",
        "# Create derived metrics\n",
        "aggregated_transaction['Avg_Transaction_Value'] = aggregated_transaction['Transaction_Amount'] / aggregated_transaction['Transaction_Count']\n",
        "map_transaction['Avg_Transaction_Value'] = map_transaction['Transaction_Amount'] / map_transaction['Transaction_Count']\n",
        "top_transaction['Avg_Transaction_Value'] = top_transaction['Transaction_Amount'] / top_transaction['Transaction_Count']\n",
        "\n",
        "# For geographical analysis, we'll need state codes\n",
        "state_codes = {\n",
        "    'Maharashtra': 'MH',\n",
        "    'Karnataka': 'KA',\n",
        "    'Tamil Nadu': 'TN',\n",
        "    'Uttar Pradesh': 'UP',\n",
        "    'Delhi': 'DL',\n",
        "    'West Bengal': 'WB',\n",
        "    'Gujarat': 'GJ',\n",
        "    'Rajasthan': 'RJ',\n",
        "    'Andhra Pradesh': 'AP',\n",
        "    'Kerala': 'KL'\n",
        "}\n",
        "\n",
        "for df in [aggregated_transaction, aggregated_user, map_transaction, top_transaction]:\n",
        "    df['State_Code'] = df['State'].map(state_codes)"
      ]
    },
    {
      "cell_type": "markdown",
      "metadata": {
        "id": "MSa1f5Uengrz"
      },
      "source": [
        "### What all manipulations have you done and insights you found?"
      ]
    },
    {
      "cell_type": "markdown",
      "metadata": {
        "id": "LbyXE7I1olp8"
      },
      "source": [
        "\n",
        "\"\"\"\n",
        "Data Wrangling Steps:\n",
        "1. Created a 'Date' column combining Year and Quarter for time series analysis\n",
        "2. Calculated average transaction value (Amount/Count) for all transaction datasets\n",
        "3. Added state codes for geographical visualizations\n",
        "4. Ensured consistent data types across all datasets\n",
        "\n",
        "Initial Insights:\n",
        "1. Transaction values vary significantly by type, with financial services having higher average values\n",
        "2. User device distribution shows Android brands dominating the market\n",
        "3. Metropolitan districts show higher transaction volumes compared to smaller districts\n",
        "4. The data shows clear growth trends over time across all metrics\n",
        "\"\"\""
      ]
    },
    {
      "cell_type": "markdown",
      "metadata": {
        "id": "GF8Ens_Soomf"
      },
      "source": [
        "## ***4. Data Vizualization, Storytelling & Experimenting with charts : Understand the relationships between variables***"
      ]
    },
    {
      "cell_type": "markdown",
      "metadata": {
        "id": "0wOQAZs5pc--"
      },
      "source": [
        "#### Chart - 1"
      ]
    },
    {
      "cell_type": "code",
      "execution_count": null,
      "metadata": {
        "id": "7v_ESjsspbW7"
      },
      "outputs": [],
      "source": [
        "# Chart - 1 visualization code\n",
        "plt.figure(figsize=(14, 7))\n",
        "time_series = aggregated_transaction.groupby('Date')[['Transaction_Count', 'Transaction_Amount']].sum()\n",
        "time_series.plot()\n",
        "plt.title('PhonePe Transaction Trends Over Time')\n",
        "plt.ylabel('Total Value')\n",
        "plt.xlabel('Date')\n",
        "plt.grid(True)\n",
        "plt.show()\n"
      ]
    },
    {
      "cell_type": "markdown",
      "metadata": {
        "id": "K5QZ13OEpz2H"
      },
      "source": [
        "##### 1. Why did you pick the specific chart?"
      ]
    },
    {
      "cell_type": "markdown",
      "metadata": {
        "id": "XESiWehPqBRc"
      },
      "source": [
        "- Line charts are ideal for showing trends over time\n",
        "- Allows comparison of both count and amount on same scale"
      ]
    },
    {
      "cell_type": "markdown",
      "metadata": {
        "id": "lQ7QKXXCp7Bj"
      },
      "source": [
        "##### 2. What is/are the insight(s) found from the chart?"
      ]
    },
    {
      "cell_type": "markdown",
      "metadata": {
        "id": "C_j1G7yiqdRP"
      },
      "source": [
        "- Steady growth in both transaction count and amount over time\n",
        "   - Seasonal patterns visible with Q4 (festive season) showing spikes\n",
        "   - Transaction amount growing faster than count, indicating higher value transactions\n"
      ]
    },
    {
      "cell_type": "markdown",
      "metadata": {
        "id": "448CDAPjqfQr"
      },
      "source": [
        "##### 3. Will the gained insights help creating a positive business impact?\n",
        "Are there any insights that lead to negative growth? Justify with specific reason."
      ]
    },
    {
      "cell_type": "markdown",
      "metadata": {
        "id": "3cspy4FjqxJW"
      },
      "source": [
        "- Yes, shows overall platform growth and seasonality\n",
        "   - Can help plan marketing campaigns around high-growth periods\n",
        "   - No negative growth observed"
      ]
    },
    {
      "cell_type": "markdown",
      "metadata": {
        "id": "KSlN3yHqYklG"
      },
      "source": [
        "#### Chart - 2"
      ]
    },
    {
      "cell_type": "code",
      "execution_count": null,
      "metadata": {
        "id": "R4YgtaqtYklH"
      },
      "outputs": [],
      "source": [
        "plt.figure(figsize=(10, 6))\n",
        "txn_type_dist = aggregated_transaction.groupby('Transaction_Type')[['Transaction_Count', 'Transaction_Amount']].sum()\n",
        "txn_type_dist.plot(kind='bar', subplots=True, layout=(1, 2), figsize=(14, 6))\n",
        "plt.suptitle('Transaction Type Distribution')\n",
        "plt.tight_layout()\n",
        "plt.show()\n"
      ]
    },
    {
      "cell_type": "markdown",
      "metadata": {
        "id": "t6dVpIINYklI"
      },
      "source": [
        "##### 1. Why did you pick the specific chart?"
      ]
    },
    {
      "cell_type": "markdown",
      "metadata": {
        "id": "5aaW0BYyYklI"
      },
      "source": [
        "- Bar charts effectively show comparisons between categories\n",
        "- Subplots allow viewing both count and amount distributions\n"
      ]
    },
    {
      "cell_type": "markdown",
      "metadata": {
        "id": "ijmpgYnKYklI"
      },
      "source": [
        "##### 2. What is/are the insight(s) found from the chart?"
      ]
    },
    {
      "cell_type": "markdown",
      "metadata": {
        "id": "PSx9atu2YklI"
      },
      "source": [
        "- Recharge & bill payments dominate by count\n",
        "   - Merchant payments show significant volume\n",
        "   - Financial services have higher average values (amount/count ratio)"
      ]
    },
    {
      "cell_type": "markdown",
      "metadata": {
        "id": "-JiQyfWJYklI"
      },
      "source": [
        "##### 3. Will the gained insights help creating a positive business impact?\n",
        "Are there any insights that lead to negative growth? Justify with specific reason."
      ]
    },
    {
      "cell_type": "markdown",
      "metadata": {
        "id": "BcBbebzrYklV"
      },
      "source": [
        " - Can focus on promoting underutilized transaction types\n",
        "   - Financial services represent high-value opportunities\n",
        "   - No negative patterns observed"
      ]
    },
    {
      "cell_type": "markdown",
      "metadata": {
        "id": "EM7whBJCYoAo"
      },
      "source": [
        "#### Chart - 3"
      ]
    },
    {
      "cell_type": "code",
      "execution_count": null,
      "metadata": {
        "id": "t6GMdE67YoAp"
      },
      "outputs": [],
      "source": [
        "state_txns = aggregated_transaction.groupby('State')[['Transaction_Count', 'Transaction_Amount']].sum().sort_values('Transaction_Amount', ascending=False)\n",
        "plt.figure(figsize=(12, 8))\n",
        "sns.barplot(x=state_txns['Transaction_Amount'], y=state_txns.index, palette='viridis')\n",
        "plt.title('Total Transaction Amount by State')\n",
        "plt.xlabel('Total Transaction Amount')\n",
        "plt.ylabel('State')\n",
        "plt.show()"
      ]
    },
    {
      "cell_type": "markdown",
      "metadata": {
        "id": "fge-S5ZAYoAp"
      },
      "source": [
        "##### 1. Why did you pick the specific chart?"
      ]
    },
    {
      "cell_type": "markdown",
      "metadata": {
        "id": "5dBItgRVYoAp"
      },
      "source": [
        "- Horizontal bar chart effectively compares many categories\n",
        "   - Clearly shows ranking of states by transaction volume"
      ]
    },
    {
      "cell_type": "markdown",
      "metadata": {
        "id": "85gYPyotYoAp"
      },
      "source": [
        "##### 2. What is/are the insight(s) found from the chart?"
      ]
    },
    {
      "cell_type": "markdown",
      "metadata": {
        "id": "4jstXR6OYoAp"
      },
      "source": [
        "- Maharashtra and Karnataka lead in transaction volume\n",
        "   - Southern and western states show higher adoption\n",
        "   - Northern states (except Delhi) show lower volumes"
      ]
    },
    {
      "cell_type": "markdown",
      "metadata": {
        "id": "RoGjAbkUYoAp"
      },
      "source": [
        "##### 3. Will the gained insights help creating a positive business impact?\n",
        "Are there any insights that lead to negative growth? Justify with specific reason."
      ]
    },
    {
      "cell_type": "markdown",
      "metadata": {
        "id": "zfJ8IqMcYoAp"
      },
      "source": [
        " - Can focus expansion efforts on low-adoption states\n",
        "   - Understand successful markets to replicate strategies\n",
        "   - Potential negative: Some states significantly lag in adoption"
      ]
    },
    {
      "cell_type": "markdown",
      "metadata": {
        "id": "4Of9eVA-YrdM"
      },
      "source": [
        "#### Chart - 4"
      ]
    },
    {
      "cell_type": "code",
      "execution_count": null,
      "metadata": {
        "id": "irlUoxc8YrdO"
      },
      "outputs": [],
      "source": [
        "brand_dist = aggregated_user.groupby('Brand')['User_Count'].sum().sort_values(ascending=False)\n",
        "plt.figure(figsize=(10, 6))\n",
        "brand_dist.plot(kind='bar', color='teal')\n",
        "plt.title('User Device Brand Distribution')\n",
        "plt.ylabel('Number of Users')\n",
        "plt.xticks(rotation=45)\n",
        "plt.show()"
      ]
    },
    {
      "cell_type": "markdown",
      "metadata": {
        "id": "iky9q4vBYrdO"
      },
      "source": [
        "##### 1. Why did you pick the specific chart?"
      ]
    },
    {
      "cell_type": "markdown",
      "metadata": {
        "id": "aJRCwT6DYrdO"
      },
      "source": [
        "- Simple bar chart shows market share distribution clearly\n",
        "   - Ordered by count for easy comparison\n"
      ]
    },
    {
      "cell_type": "markdown",
      "metadata": {
        "id": "F6T5p64dYrdO"
      },
      "source": [
        "##### 2. What is/are the insight(s) found from the chart?"
      ]
    },
    {
      "cell_type": "markdown",
      "metadata": {
        "id": "Xx8WAJvtYrdO"
      },
      "source": [
        " - Xiaomi and Samsung dominate the user base\n",
        "   - Apple has smaller but significant presence\n",
        "   - Other Android brands have substantial shares\n"
      ]
    },
    {
      "cell_type": "markdown",
      "metadata": {
        "id": "y-Ehk30pYrdP"
      },
      "source": [
        "##### 3. Will the gained insights help creating a positive business impact?\n",
        "Are there any insights that lead to negative growth? Justify with specific reason."
      ]
    },
    {
      "cell_type": "markdown",
      "metadata": {
        "id": "jLNxxz7MYrdP"
      },
      "source": [
        "- Can optimize app for dominant device brands\n",
        "   - Partnership opportunities with top manufacturers\n",
        "   - No negative patterns observed"
      ]
    },
    {
      "cell_type": "markdown",
      "metadata": {
        "id": "bamQiAODYuh1"
      },
      "source": [
        "#### Chart - 5"
      ]
    },
    {
      "cell_type": "code",
      "execution_count": null,
      "metadata": {
        "id": "TIJwrbroYuh3"
      },
      "outputs": [],
      "source": [
        "\n",
        "heatmap_data = aggregated_transaction.pivot_table(index='State', columns='Year', values='Transaction_Amount', aggfunc='sum')\n",
        "plt.figure(figsize=(12, 8))\n",
        "sns.heatmap(heatmap_data, cmap='YlGnBu', annot=True, fmt='.1f', linewidths=.5)\n",
        "plt.title('Transaction Amount Heatmap by State and Year')\n",
        "plt.show()\n"
      ]
    },
    {
      "cell_type": "markdown",
      "metadata": {
        "id": "QHF8YVU7Yuh3"
      },
      "source": [
        "##### 1. Why did you pick the specific chart?"
      ]
    },
    {
      "cell_type": "markdown",
      "metadata": {
        "id": "dcxuIMRPYuh3"
      },
      "source": [
        "- Heatmap effectively shows two-dimensional patterns\n",
        "   - Color intensity highlights growth trends\n"
      ]
    },
    {
      "cell_type": "markdown",
      "metadata": {
        "id": "GwzvFGzlYuh3"
      },
      "source": [
        "##### 2. What is/are the insight(s) found from the chart?"
      ]
    },
    {
      "cell_type": "markdown",
      "metadata": {
        "id": "uyqkiB8YYuh3"
      },
      "source": [
        " - Consistent growth across all states year-over-year\n",
        "   - Some states show accelerated growth (e.g., Karnataka)\n",
        "   - Pandemic years (2020-2021) still showed growth"
      ]
    },
    {
      "cell_type": "markdown",
      "metadata": {
        "id": "qYpmQ266Yuh3"
      },
      "source": [
        "##### 3. Will the gained insights help creating a positive business impact?\n",
        "Are there any insights that lead to negative growth? Justify with specific reason."
      ]
    },
    {
      "cell_type": "markdown",
      "metadata": {
        "id": "_WtzZ_hCYuh4"
      },
      "source": [
        "- Confirms universal growth pattern\n",
        "   - Highlights high-growth states for focused attention\n",
        "   - No negative growth observed in any state"
      ]
    },
    {
      "cell_type": "markdown",
      "metadata": {
        "id": "OH-pJp9IphqM"
      },
      "source": [
        "#### Chart - 6"
      ]
    },
    {
      "cell_type": "code",
      "execution_count": null,
      "metadata": {
        "id": "kuRf4wtuphqN"
      },
      "outputs": [],
      "source": [
        "avg_txn_value = aggregated_transaction.groupby('Transaction_Type')['Avg_Transaction_Value'].mean().sort_values(ascending=False)\n",
        "plt.figure(figsize=(10, 6))\n",
        "avg_txn_value.plot(kind='bar', color='purple')\n",
        "plt.title('Average Transaction Value by Type')\n",
        "plt.ylabel('Average Value (INR)')\n",
        "plt.xticks(rotation=45)\n",
        "plt.show()\n"
      ]
    },
    {
      "cell_type": "markdown",
      "metadata": {
        "id": "bbFf2-_FphqN"
      },
      "source": [
        "##### 1. Why did you pick the specific chart?"
      ]
    },
    {
      "cell_type": "markdown",
      "metadata": {
        "id": "loh7H2nzphqN"
      },
      "source": [
        "- Bar chart clearly compares central tendency across categories\n",
        "   - Ordered by value for easy interpretation"
      ]
    },
    {
      "cell_type": "markdown",
      "metadata": {
        "id": "_ouA3fa0phqN"
      },
      "source": [
        "##### 2. What is/are the insight(s) found from the chart?"
      ]
    },
    {
      "cell_type": "markdown",
      "metadata": {
        "id": "VECbqPI7phqN"
      },
      "source": [
        "- Financial services have highest average value\n",
        "   - Peer-to-peer payments also high value\n",
        "   - Recharge & bill payments are lower value but high volume\n"
      ]
    },
    {
      "cell_type": "markdown",
      "metadata": {
        "id": "Seke61FWphqN"
      },
      "source": [
        "##### 3. Will the gained insights help creating a positive business impact?\n",
        "Are there any insights that lead to negative growth? Justify with specific reason."
      ]
    },
    {
      "cell_type": "markdown",
      "metadata": {
        "id": "DW4_bGpfphqN"
      },
      "source": [
        "- Can develop premium features for high-value segments\n",
        "   - Marketing can emphasize different use cases\n",
        "   - No negative patterns observed"
      ]
    },
    {
      "cell_type": "markdown",
      "metadata": {
        "id": "PIIx-8_IphqN"
      },
      "source": [
        "#### Chart - 7"
      ]
    },
    {
      "cell_type": "code",
      "execution_count": null,
      "metadata": {
        "id": "lqAIGUfyphqO"
      },
      "outputs": [],
      "source": [
        "top_districts = map_transaction.groupby(['State', 'District'])['Transaction_Amount'].sum().nlargest(10)\n",
        "plt.figure(figsize=(12, 6))\n",
        "top_districts.plot(kind='barh', color='orange')\n",
        "plt.title('Top 10 Districts by Transaction Volume')\n",
        "plt.xlabel('Total Transaction Amount')\n",
        "plt.show()\n"
      ]
    },
    {
      "cell_type": "markdown",
      "metadata": {
        "id": "t27r6nlMphqO"
      },
      "source": [
        "##### 1. Why did you pick the specific chart?"
      ]
    },
    {
      "cell_type": "markdown",
      "metadata": {
        "id": "iv6ro40sphqO"
      },
      "source": [
        "- Horizontal bar chart effectively displays top performers\n",
        "   - Limited to top 10 for clarity"
      ]
    },
    {
      "cell_type": "markdown",
      "metadata": {
        "id": "r2jJGEOYphqO"
      },
      "source": [
        "##### 2. What is/are the insight(s) found from the chart?"
      ]
    },
    {
      "cell_type": "markdown",
      "metadata": {
        "id": "Po6ZPi4hphqO"
      },
      "source": [
        " - Major cities dominate (Mumbai, Bangalore, Delhi, etc.)\n",
        "   - Economic hubs show highest transaction volumes\n",
        "   - Some variation within states (multiple districts from same state)"
      ]
    },
    {
      "cell_type": "markdown",
      "metadata": {
        "id": "b0JNsNcRphqO"
      },
      "source": [
        "##### 3. Will the gained insights help creating a positive business impact?\n",
        "Are there any insights that lead to negative growth? Justify with specific reason."
      ]
    },
    {
      "cell_type": "markdown",
      "metadata": {
        "id": "xvSq8iUTphqO"
      },
      "source": [
        "- Can focus urban marketing strategies\n",
        "   - Identify successful districts to replicate strategies\n",
        "   - Potential negative: Rural districts underrepresented"
      ]
    },
    {
      "cell_type": "markdown",
      "metadata": {
        "id": "BZR9WyysphqO"
      },
      "source": [
        "#### Chart - 8"
      ]
    },
    {
      "cell_type": "code",
      "execution_count": null,
      "metadata": {
        "id": "TdPTWpAVphqO"
      },
      "outputs": [],
      "source": [
        "brand_share = aggregated_user.pivot_table(index='Date', columns='Brand', values='Percentage', aggfunc='mean')\n",
        "plt.figure(figsize=(14, 7))\n",
        "brand_share.plot.area(stacked=True)\n",
        "plt.title('Brand Market Share Over Time')\n",
        "plt.ylabel('Market Share Percentage')\n",
        "plt.xlabel('Date')\n",
        "plt.legend(bbox_to_anchor=(1.05, 1), loc='upper left')\n",
        "plt.show()\n"
      ]
    },
    {
      "cell_type": "markdown",
      "metadata": {
        "id": "jj7wYXLtphqO"
      },
      "source": [
        "##### 1. Why did you pick the specific chart?"
      ]
    },
    {
      "cell_type": "markdown",
      "metadata": {
        "id": "Ob8u6rCTphqO"
      },
      "source": [
        "- Stacked area chart shows composition over time\n",
        "   - Clearly displays market share changes"
      ]
    },
    {
      "cell_type": "markdown",
      "metadata": {
        "id": "eZrbJ2SmphqO"
      },
      "source": [
        "##### 2. What is/are the insight(s) found from the chart?"
      ]
    },
    {
      "cell_type": "markdown",
      "metadata": {
        "id": "mZtgC_hjphqO"
      },
      "source": [
        "- Xiaomi maintains lead but share decreasing slightly\n",
        "   - Samsung and Apple gaining share\n",
        "   - Other brands relatively stable"
      ]
    },
    {
      "cell_type": "markdown",
      "metadata": {
        "id": "rFu4xreNphqO"
      },
      "source": [
        "##### 3. Will the gained insights help creating a positive business impact?\n",
        "Are there any insights that lead to negative growth? Justify with specific reason."
      ]
    },
    {
      "cell_type": "markdown",
      "metadata": {
        "id": "ey_0qi68phqO"
      },
      "source": [
        "- Can track device trends to optimize app performance\n",
        "   - Partnership opportunities with growing brands\n",
        "   - Potential negative: Market leader losing share"
      ]
    },
    {
      "cell_type": "markdown",
      "metadata": {
        "id": "YJ55k-q6phqO"
      },
      "source": [
        "#### Chart - 9"
      ]
    },
    {
      "cell_type": "code",
      "execution_count": null,
      "metadata": {
        "id": "B2aS4O1ophqO"
      },
      "outputs": [],
      "source": [
        "txn_composition = aggregated_transaction.pivot_table(index='State', columns='Transaction_Type', values='Transaction_Amount', aggfunc='sum')\n",
        "txn_composition = txn_composition.div(txn_composition.sum(axis=1), axis=0) * 100  # Convert to percentages\n",
        "\n",
        "plt.figure(figsize=(14, 8))\n",
        "txn_composition.plot(kind='barh', stacked=True, figsize=(12, 8))\n",
        "plt.title('Transaction Type Composition by State (%)')\n",
        "plt.xlabel('Percentage')\n",
        "plt.ylabel('State')\n",
        "plt.legend(bbox_to_anchor=(1.05, 1), loc='upper left')\n",
        "plt.show()"
      ]
    },
    {
      "cell_type": "markdown",
      "metadata": {
        "id": "gCFgpxoyphqP"
      },
      "source": [
        "##### 1. Why did you pick the specific chart?"
      ]
    },
    {
      "cell_type": "markdown",
      "metadata": {
        "id": "TVxDimi2phqP"
      },
      "source": [
        "- Stacked bar shows proportion of transaction types\n",
        "   - Horizontal layout accommodates many states\n"
      ]
    },
    {
      "cell_type": "markdown",
      "metadata": {
        "id": "OVtJsKN_phqQ"
      },
      "source": [
        "##### 2. What is/are the insight(s) found from the chart?"
      ]
    },
    {
      "cell_type": "markdown",
      "metadata": {
        "id": "ngGi97qjphqQ"
      },
      "source": [
        " - Recharge dominates in most states\n",
        "   - Financial services more prominent in developed states\n",
        "   - Regional variations in payment preferences"
      ]
    },
    {
      "cell_type": "markdown",
      "metadata": {
        "id": "lssrdh5qphqQ"
      },
      "source": [
        "##### 3. Will the gained insights help creating a positive business impact?\n",
        "Are there any insights that lead to negative growth? Justify with specific reason."
      ]
    },
    {
      "cell_type": "markdown",
      "metadata": {
        "id": "tBpY5ekJphqQ"
      },
      "source": [
        "- Can tailor offerings by state preferences\n",
        "   - Identify opportunities to promote underused services\n",
        "   - No negative patterns observed"
      ]
    },
    {
      "cell_type": "markdown",
      "metadata": {
        "id": "U2RJ9gkRphqQ"
      },
      "source": [
        "#### Chart - 10"
      ]
    },
    {
      "cell_type": "code",
      "execution_count": null,
      "metadata": {
        "id": "GM7a4YP4phqQ"
      },
      "outputs": [],
      "source": [
        "user_growth = aggregated_user.groupby('Date')['User_Count'].sum().pct_change() * 100\n",
        "txn_growth = aggregated_transaction.groupby('Date')['Transaction_Count'].sum().pct_change() * 100\n",
        "\n",
        "plt.figure(figsize=(14, 7))\n",
        "plt.plot(user_growth.index, user_growth.values, label='User Growth %')\n",
        "plt.plot(txn_growth.index, txn_growth.values, label='Transaction Growth %')\n",
        "plt.title('Quarterly Growth Rates: Users vs Transactions')\n",
        "plt.ylabel('Growth Rate (%)')\n",
        "plt.xlabel('Date')\n",
        "plt.legend()\n",
        "plt.grid(True)\n",
        "plt.show()"
      ]
    },
    {
      "cell_type": "markdown",
      "metadata": {
        "id": "1M8mcRywphqQ"
      },
      "source": [
        "##### 1. Why did you pick the specific chart?"
      ]
    },
    {
      "cell_type": "markdown",
      "metadata": {
        "id": "8agQvks0phqQ"
      },
      "source": [
        " - Line chart compares two growth metrics effectively\n",
        "   - Percentage change shows relative growth"
      ]
    },
    {
      "cell_type": "markdown",
      "metadata": {
        "id": "tgIPom80phqQ"
      },
      "source": [
        "##### 2. What is/are the insight(s) found from the chart?"
      ]
    },
    {
      "cell_type": "markdown",
      "metadata": {
        "id": "Qp13pnNzphqQ"
      },
      "source": [
        " - Transaction growth outpaces user growth\n",
        "   - Both metrics show positive growth throughout\n",
        "   - Some quarters show synchronized spikes\n"
      ]
    },
    {
      "cell_type": "markdown",
      "metadata": {
        "id": "JMzcOPDDphqR"
      },
      "source": [
        "##### 3. Will the gained insights help creating a positive business impact?\n",
        "Are there any insights that lead to negative growth? Justify with specific reason."
      ]
    },
    {
      "cell_type": "markdown",
      "metadata": {
        "id": "R4Ka1PC2phqR"
      },
      "source": [
        "- Indicates increasing engagement per user\n",
        "   - Can focus on retaining existing users\n",
        "   - No negative growth observed"
      ]
    },
    {
      "cell_type": "markdown",
      "metadata": {
        "id": "x-EpHcCOp1ci"
      },
      "source": [
        "#### Chart - 11"
      ]
    },
    {
      "cell_type": "code",
      "execution_count": null,
      "metadata": {
        "id": "mAQTIvtqp1cj"
      },
      "outputs": [],
      "source": [
        "top_pincodes = top_transaction.groupby(['State', 'Pincode']).agg({\n",
        "    'Transaction_Count': 'sum',\n",
        "    'Transaction_Amount': 'sum'\n",
        "}).nlargest(10, 'Transaction_Amount')\n",
        "\n",
        "plt.figure(figsize=(12, 6))\n",
        "sns.scatterplot(data=top_pincodes, x='Transaction_Count', y='Transaction_Amount', \n",
        "                hue=top_pincodes.index.get_level_values(0), s=200)\n",
        "plt.title('Top Pincodes: Transaction Count vs Amount')\n",
        "plt.xlabel('Transaction Count')\n",
        "plt.ylabel('Transaction Amount')\n",
        "plt.legend(title='State')\n",
        "plt.show()"
      ]
    },
    {
      "cell_type": "markdown",
      "metadata": {
        "id": "X_VqEhTip1ck"
      },
      "source": [
        "##### 1. Why did you pick the specific chart?"
      ]
    },
    {
      "cell_type": "markdown",
      "metadata": {
        "id": "-vsMzt_np1ck"
      },
      "source": [
        " - Scatter plot shows relationship between count and amount\n",
        "   - Color coding by state adds dimension\n",
        "   - Bubble size emphasizes volume"
      ]
    },
    {
      "cell_type": "markdown",
      "metadata": {
        "id": "8zGJKyg5p1ck"
      },
      "source": [
        "##### 2. What is/are the insight(s) found from the chart?"
      ]
    },
    {
      "cell_type": "markdown",
      "metadata": {
        "id": "ZYdMsrqVp1ck"
      },
      "source": [
        "- High-value pincodes in metropolitan areas\n",
        "   - Some pincodes have high count but moderate amount\n",
        "   - Others have moderate count but high amount"
      ]
    },
    {
      "cell_type": "markdown",
      "metadata": {
        "id": "PVzmfK_Ep1ck"
      },
      "source": [
        "##### 3. Will the gained insights help creating a positive business impact?\n",
        "Are there any insights that lead to negative growth? Justify with specific reason."
      ]
    },
    {
      "cell_type": "markdown",
      "metadata": {
        "id": "druuKYZpp1ck"
      },
      "source": [
        " - Can identify premium locations for targeted campaigns\n",
        "   - Understand different usage patterns\n",
        "   - No negative patterns observed"
      ]
    },
    {
      "cell_type": "markdown",
      "metadata": {
        "id": "n3dbpmDWp1ck"
      },
      "source": [
        "#### Chart - 12"
      ]
    },
    {
      "cell_type": "code",
      "execution_count": null,
      "metadata": {
        "id": "bwevp1tKp1ck"
      },
      "outputs": [],
      "source": [
        "plt.figure(figsize=(14, 7))\n",
        "sns.boxplot(data=aggregated_transaction, x='Quarter', y='Transaction_Amount', palette='Set2')\n",
        "plt.title('Quarterly Transaction Amount Distributions')\n",
        "plt.ylabel('Transaction Amount')\n",
        "plt.xlabel('Quarter')\n",
        "plt.show()"
      ]
    },
    {
      "cell_type": "markdown",
      "metadata": {
        "id": "ylSl6qgtp1ck"
      },
      "source": [
        "##### 1. Why did you pick the specific chart?"
      ]
    },
    {
      "cell_type": "markdown",
      "metadata": {
        "id": "m2xqNkiQp1ck"
      },
      "source": [
        "- Boxplot shows distribution and outliers\n",
        "   - Compares across quarters effectively"
      ]
    },
    {
      "cell_type": "markdown",
      "metadata": {
        "id": "ZWILFDl5p1ck"
      },
      "source": [
        "##### 2. What is/are the insight(s) found from the chart?"
      ]
    },
    {
      "cell_type": "markdown",
      "metadata": {
        "id": "x-lUsV2mp1ck"
      },
      "source": [
        " Q4 consistently shows higher transaction amounts\n",
        "   - Q1 typically lowest (post-festive season)\n",
        "   - Some outliers in each quarter\n"
      ]
    },
    {
      "cell_type": "markdown",
      "metadata": {
        "id": "M7G43BXep1ck"
      },
      "source": [
        "##### 3. Will the gained insights help creating a positive business impact?\n",
        "Are there any insights that lead to negative growth? Justify with specific reason."
      ]
    },
    {
      "cell_type": "markdown",
      "metadata": {
        "id": "5wwDJXsLp1cl"
      },
      "source": [
        "- Can plan promotions around seasonal trends\n",
        "   - Prepare infrastructure for peak quarters\n",
        "   - No negative patterns observed"
      ]
    },
    {
      "cell_type": "markdown",
      "metadata": {
        "id": "Ag9LCva-p1cl"
      },
      "source": [
        "#### Chart - 13"
      ]
    },
    {
      "cell_type": "code",
      "execution_count": null,
      "metadata": {
        "id": "EUfxeq9-p1cl"
      },
      "outputs": [],
      "source": [
        "# Chart - 13: Geographic Distribution of Transactions\n",
        "# This would require actual geographic coordinates - here's a conceptual approach\n",
        "# In practice, you would merge with a GeoJSON file of India's states\n",
        "\n",
        "# Sample code for what this might look like with real data:\n",
        "\"\"\"\n",
        "import geopandas as gpd\n",
        "\n",
        "# Load India states geojson\n",
        "india = gpd.read_file('india_states.geojson')\n",
        "\n",
        "# Merge with our transaction data\n",
        "state_txns = aggregated_transaction.groupby('State_Code')['Transaction_Amount'].sum().reset_index()\n",
        "merged = india.merge(state_txns, left_on='state_code', right_on='State_Code')\n",
        "\n",
        "# Plot\n",
        "fig, ax = plt.subplots(1, 1, figsize=(12, 12))\n",
        "merged.plot(column='Transaction_Amount', cmap='OrRd', linewidth=0.8, ax=ax, edgecolor='0.8', legend=True)\n",
        "ax.set_title('Transaction Amount by State')\n",
        "plt.axis('off')\n",
        "plt.show()\n",
        "\"\"\""
      ]
    },
    {
      "cell_type": "markdown",
      "metadata": {
        "id": "E6MkPsBcp1cl"
      },
      "source": [
        "##### 1. Why did you pick the specific chart?"
      ]
    },
    {
      "cell_type": "markdown",
      "metadata": {
        "id": "V22bRsFWp1cl"
      },
      "source": [
        " - Choropleth maps best for geographic distributions\n",
        "   - Color intensity shows value differences"
      ]
    },
    {
      "cell_type": "markdown",
      "metadata": {
        "id": "2cELzS2fp1cl"
      },
      "source": [
        "##### 2. What is/are the insight(s) found from the chart?"
      ]
    },
    {
      "cell_type": "markdown",
      "metadata": {
        "id": "ozQPc2_Ip1cl"
      },
      "source": [
        "- High concentration in western and southern states\n",
        "   - Northern states show lower adoption\n",
        "   - Coastal regions generally stronger\n"
      ]
    },
    {
      "cell_type": "markdown",
      "metadata": {
        "id": "3MPXvC8up1cl"
      },
      "source": [
        "##### 3. Will the gained insights help creating a positive business impact?\n",
        "Are there any insights that lead to negative growth? Justify with specific reason."
      ]
    },
    {
      "cell_type": "markdown",
      "metadata": {
        "id": "GL8l1tdLp1cl"
      },
      "source": [
        "- Can target expansion to underserved regions\n",
        "   - Understand regional adoption patterns\n",
        "   - Potential negative: Significant geographic disparities"
      ]
    },
    {
      "cell_type": "markdown",
      "metadata": {
        "id": "NC_X3p0fY2L0"
      },
      "source": [
        "#### Chart - 14 - Correlation Heatmap"
      ]
    },
    {
      "cell_type": "code",
      "execution_count": null,
      "metadata": {
        "id": "xyC9zolEZNRQ"
      },
      "outputs": [],
      "source": [
        "\n",
        "corr_matrix = aggregated_transaction[['Transaction_Count', 'Transaction_Amount', 'Avg_Transaction_Value']].corr()\n",
        "\n",
        "plt.figure(figsize=(8, 6))\n",
        "sns.heatmap(corr_matrix, annot=True, cmap='coolwarm', center=0)\n",
        "plt.title('Correlation Heatmap of Transaction Metrics')\n",
        "plt.show()"
      ]
    },
    {
      "cell_type": "markdown",
      "metadata": {
        "id": "UV0SzAkaZNRQ"
      },
      "source": [
        "##### 1. Why did you pick the specific chart?"
      ]
    },
    {
      "cell_type": "markdown",
      "metadata": {
        "id": "DVPuT8LYZNRQ"
      },
      "source": [
        "- Heatmap effectively displays correlation matrix\n",
        "   - Color scale highlights strength and direction\n"
      ]
    },
    {
      "cell_type": "markdown",
      "metadata": {
        "id": "YPEH6qLeZNRQ"
      },
      "source": [
        "##### 2. What is/are the insight(s) found from the chart?"
      ]
    },
    {
      "cell_type": "markdown",
      "metadata": {
        "id": "bfSqtnDqZNRR"
      },
      "source": [
        " - Transaction count and amount highly correlated (expected)\n",
        "   - Average value shows weaker correlation\n",
        "   - No negative correlations found\n"
      ]
    },
    {
      "cell_type": "markdown",
      "metadata": {
        "id": "q29F0dvdveiT"
      },
      "source": [
        "#### Chart - 15 - Pair Plot"
      ]
    },
    {
      "cell_type": "code",
      "execution_count": null,
      "metadata": {
        "id": "o58-TEIhveiU"
      },
      "outputs": [],
      "source": [
        "sample_data = aggregated_transaction.sample(1000)  # Sampling for performance\n",
        "sns.pairplot(sample_data[['Transaction_Count', 'Transaction_Amount', 'Avg_Transaction_Value', 'Transaction_Type']], \n",
        "             hue='Transaction_Type', diag_kind='kde')\n",
        "plt.suptitle('Pair Plot of Transaction Metrics by Type', y=1.02)\n",
        "plt.show()\n"
      ]
    },
    {
      "cell_type": "markdown",
      "metadata": {
        "id": "EXh0U9oCveiU"
      },
      "source": [
        "##### 1. Why did you pick the specific chart?"
      ]
    },
    {
      "cell_type": "markdown",
      "metadata": {
        "id": "eMmPjTByveiU"
      },
      "source": [
        "sample_data = aggregated_transaction.sample(1000)  # Sampling for performance\n",
        "sns.pairplot(sample_data[['Transaction_Count', 'Transaction_Amount', 'Avg_Transaction_Value', 'Transaction_Type']], \n",
        "             hue='Transaction_Type', diag_kind='kde')\n",
        "plt.suptitle('Pair Plot of Transaction Metrics by Type', y=1.02)\n",
        "plt.show()\n"
      ]
    },
    {
      "cell_type": "markdown",
      "metadata": {
        "id": "22aHeOlLveiV"
      },
      "source": [
        "##### 2. What is/are the insight(s) found from the chart?"
      ]
    },
    {
      "cell_type": "markdown",
      "metadata": {
        "id": "uPQ8RGwHveiV"
      },
      "source": [
        "- Financial services cluster in higher value ranges\n",
        "   - Recharge payments dominate lower value, high count\n",
        "   - Clear separation between transaction types"
      ]
    },
    {
      "cell_type": "markdown",
      "metadata": {
        "id": "JcMwzZxoAimU"
      },
      "source": [
        "## **5. Solution to Business Objective**"
      ]
    },
    {
      "cell_type": "markdown",
      "metadata": {
        "id": "8G2x9gOozGDZ"
      },
      "source": [
        "#### What do you suggest the client to achieve Business Objective ?\n",
        "Explain Briefly."
      ]
    },
    {
      "cell_type": "markdown",
      "metadata": {
        "id": "pASKb0qOza21"
      },
      "source": [
        "Based on the analysis, here are recommendations to achieve the business objectives:\n",
        "\n",
        "1. Customer Segmentation:\n",
        "   - Create distinct user segments based on:\n",
        "     * Transaction types (recharge users vs financial services users)\n",
        "     * Device types (Android vs iOS users)\n",
        "     * Geographic regions (high vs low adoption areas)\n",
        "\n",
        "2. Fraud Detection:\n",
        "   - Monitor transactions that deviate from:\n",
        "     * Typical average values for each transaction type\n",
        "     * Geographic usage patterns\n",
        "     * Device-specific behaviors\n",
        "\n",
        "3. Geographical Insights:\n",
        "   - Focus expansion efforts on northern and eastern states\n",
        "   - Strengthen presence in high-growth urban centers\n",
        "   - Develop rural outreach programs\n",
        "\n",
        "4. Payment Performance:\n",
        "   - Promote underutilized services like financial services\n",
        "   - Enhance merchant payment features\n",
        "   - Bundle services for recharge users\n",
        "\n",
        "5. User Engagement:\n",
        "   - Develop loyalty programs for frequent users\n",
        "   - Targeted promotions based on usage patterns\n",
        "   - Personalized recommendations\n",
        "\n",
        "6. Product Development:\n",
        "   - Enhance financial services offerings\n",
        "   - Develop premium features for high-value users\n",
        "   - Optimize app for dominant device brands\n",
        "\n",
        "7. Insurance Insights:\n",
        "   - Bundle insurance with financial services\n",
        "   - Target high-value transaction users\n",
        "   - Develop micro-insurance products\n",
        "\n",
        "8. Marketing Optimization:\n",
        "   - Time campaigns around quarterly peaks (especially Q4)\n",
        "   - Geo-targeted messaging\n",
        "   - Device-specific optimizations\n",
        "\n",
        "9. Competitive Benchmarking:\n",
        "   - Monitor growth rates against industry\n",
        "   - Compare regional penetration\n",
        "   - Benchmark against global digital payment trends"
      ]
    },
    {
      "cell_type": "markdown",
      "metadata": {
        "id": "gCX9965dhzqZ"
      },
      "source": [
        "# **Conclusion**"
      ]
    },
    {
      "cell_type": "markdown",
      "metadata": {
        "id": "Fjb1IsQkh3yE"
      },
      "source": [
        "This exploratory analysis of PhonePe transaction data revealed several key insights:\n",
        "\n",
        "1. The platform has shown consistent growth across all metrics, with transaction growth outpacing user growth, indicating increasing engagement.\n",
        "\n",
        "2. Significant regional variations exist, with western and southern states showing higher adoption rates compared to northern and eastern regions.\n",
        "\n",
        "3. Transaction types show distinct patterns - recharge dominates by volume while financial services command higher average values.\n",
        "\n",
        "4. User device distribution is Android-heavy, with Xiaomi and Samsung leading but Apple gaining share.\n",
        "\n",
        "5. Clear seasonal patterns emerge, with Q4 (festive season) consistently showing peak activity.\n",
        "\n",
        "Recommendations:\n",
        "- Focus on geographic expansion to underserved regions\n",
        "- Develop targeted products for different user segments\n",
        "- Optimize platform for dominant device brands\n",
        "- Implement seasonal marketing strategies\n",
        "- Enhance high-value transaction features\n",
        "\n",
        "The insights gained from this analysis provide a strong foundation for data-driven decision making to drive PhonePe's growth and market leadership in India's digital payments ecosystem"
      ]
    },
    {
      "cell_type": "markdown",
      "metadata": {
        "id": "gIfDvo9L0UH2"
      },
      "source": [
        "### ***Hurrah! You have successfully completed your EDA Capstone Project !!!***"
      ]
    },
    {
      "cell_type": "code",
      "execution_count": null,
      "metadata": {
        "id": "dYX880etpL0x"
      },
      "outputs": [],
      "source": []
    },
    {
      "cell_type": "code",
      "execution_count": null,
      "metadata": {
        "id": "-6Vl263upPVI"
      },
      "outputs": [],
      "source": []
    }
  ],
  "metadata": {
    "colab": {
      "collapsed_sections": [
        "vncDsAP0Gaoa",
        "FJNUwmbgGyua",
        "w6K7xa23Elo4",
        "yQaldy8SH6Dl",
        "PH-0ReGfmX4f",
        "mDgbUHAGgjLW",
        "O_i_v8NEhb9l",
        "HhfV-JJviCcP",
        "Y3lxredqlCYt",
        "3RnN4peoiCZX",
        "x71ZqKXriCWQ",
        "7hBIi_osiCS2",
        "JlHwYmJAmNHm",
        "35m5QtbWiB9F",
        "PoPl-ycgm1ru",
        "H0kj-8xxnORC",
        "nA9Y7ga8ng1Z",
        "PBTbrJXOngz2",
        "u3PMJOP6ngxN",
        "dauF4eBmngu3",
        "bKJF3rekwFvQ",
        "MSa1f5Uengrz",
        "GF8Ens_Soomf",
        "0wOQAZs5pc--",
        "K5QZ13OEpz2H",
        "lQ7QKXXCp7Bj",
        "448CDAPjqfQr",
        "KSlN3yHqYklG",
        "t6dVpIINYklI",
        "ijmpgYnKYklI",
        "-JiQyfWJYklI",
        "EM7whBJCYoAo",
        "fge-S5ZAYoAp",
        "85gYPyotYoAp",
        "RoGjAbkUYoAp",
        "4Of9eVA-YrdM",
        "iky9q4vBYrdO",
        "F6T5p64dYrdO",
        "y-Ehk30pYrdP",
        "bamQiAODYuh1",
        "QHF8YVU7Yuh3",
        "GwzvFGzlYuh3",
        "qYpmQ266Yuh3",
        "OH-pJp9IphqM",
        "bbFf2-_FphqN",
        "_ouA3fa0phqN",
        "Seke61FWphqN",
        "PIIx-8_IphqN",
        "t27r6nlMphqO",
        "r2jJGEOYphqO",
        "b0JNsNcRphqO",
        "BZR9WyysphqO",
        "jj7wYXLtphqO",
        "eZrbJ2SmphqO",
        "rFu4xreNphqO",
        "YJ55k-q6phqO",
        "gCFgpxoyphqP",
        "OVtJsKN_phqQ",
        "lssrdh5qphqQ",
        "U2RJ9gkRphqQ",
        "1M8mcRywphqQ",
        "tgIPom80phqQ",
        "JMzcOPDDphqR",
        "x-EpHcCOp1ci",
        "X_VqEhTip1ck",
        "8zGJKyg5p1ck",
        "PVzmfK_Ep1ck",
        "n3dbpmDWp1ck",
        "ylSl6qgtp1ck",
        "ZWILFDl5p1ck",
        "M7G43BXep1ck",
        "Ag9LCva-p1cl",
        "E6MkPsBcp1cl",
        "2cELzS2fp1cl",
        "3MPXvC8up1cl",
        "NC_X3p0fY2L0",
        "UV0SzAkaZNRQ",
        "YPEH6qLeZNRQ",
        "q29F0dvdveiT",
        "EXh0U9oCveiU",
        "22aHeOlLveiV",
        "JcMwzZxoAimU",
        "8G2x9gOozGDZ",
        "gCX9965dhzqZ",
        "gIfDvo9L0UH2"
      ],
      "private_outputs": true,
      "provenance": []
    },
    "kernelspec": {
      "display_name": "Python 3",
      "name": "python3"
    },
    "language_info": {
      "name": "python"
    }
  },
  "nbformat": 4,
  "nbformat_minor": 0
}
